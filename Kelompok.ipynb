{
 "cells": [
  {
   "cell_type": "code",
   "execution_count": 1,
   "metadata": {},
   "outputs": [
    {
     "data": {
      "text/html": [
       "<div>\n",
       "<style scoped>\n",
       "    .dataframe tbody tr th:only-of-type {\n",
       "        vertical-align: middle;\n",
       "    }\n",
       "\n",
       "    .dataframe tbody tr th {\n",
       "        vertical-align: top;\n",
       "    }\n",
       "\n",
       "    .dataframe thead th {\n",
       "        text-align: right;\n",
       "    }\n",
       "</style>\n",
       "<table border=\"1\" class=\"dataframe\">\n",
       "  <thead>\n",
       "    <tr style=\"text-align: right;\">\n",
       "      <th></th>\n",
       "      <th>mhs</th>\n",
       "      <th>ipk</th>\n",
       "      <th>gaji</th>\n",
       "    </tr>\n",
       "  </thead>\n",
       "  <tbody>\n",
       "    <tr>\n",
       "      <th>0</th>\n",
       "      <td>A</td>\n",
       "      <td>3.00</td>\n",
       "      <td>10</td>\n",
       "    </tr>\n",
       "    <tr>\n",
       "      <th>1</th>\n",
       "      <td>B</td>\n",
       "      <td>2.99</td>\n",
       "      <td>1</td>\n",
       "    </tr>\n",
       "  </tbody>\n",
       "</table>\n",
       "</div>"
      ],
      "text/plain": [
       "  mhs   ipk  gaji\n",
       "0   A  3.00    10\n",
       "1   B  2.99     1"
      ]
     },
     "execution_count": 1,
     "metadata": {},
     "output_type": "execute_result"
    }
   ],
   "source": [
    "import numpy as np\n",
    "import pandas as pd\n",
    "\n",
    "data_mahasiswa = pd.read_csv(\"dataMahasiswa.csv\")\n",
    "data_mahasiswa"
   ]
  },
  {
   "cell_type": "code",
   "execution_count": 4,
   "metadata": {},
   "outputs": [
    {
     "name": "stdout",
     "output_type": "stream",
     "text": [
      "ipk_A:  3.0\n",
      "ipk_B:  2.99\n"
     ]
    }
   ],
   "source": [
    "# data ipk\n",
    "data_ipk = np.array(data_mahasiswa)\n",
    "data_ipk = data_ipk[:,[0,1]]\n",
    "\n",
    "ipk_A = np.sum(data_ipk[0:1,1], axis=0)\n",
    "ipk_B = np.sum(data_ipk[1:2,1], axis=0)\n",
    "\n",
    "print(\"ipk_A: \", ipk_A)\n",
    "print(\"ipk_B: \", ipk_B)"
   ]
  },
  {
   "cell_type": "code",
   "execution_count": 7,
   "metadata": {},
   "outputs": [
    {
     "name": "stdout",
     "output_type": "stream",
     "text": [
      "gaji_A:  10\n",
      "gaji_B:  1\n"
     ]
    }
   ],
   "source": [
    "# data gaji\n",
    "data_gaji = np.array(data_mahasiswa)\n",
    "data_gaji = data_gaji[:,[0,2]]\n",
    "\n",
    "gaji_A = np.sum(data_gaji[0:1,1], axis=0)\n",
    "gaji_B = np.sum(data_gaji[1:2,1], axis=0)\n",
    "\n",
    "print(\"gaji_A: \", gaji_A)\n",
    "print(\"gaji_B: \", gaji_B)"
   ]
  },
  {
   "cell_type": "code",
   "execution_count": 8,
   "metadata": {},
   "outputs": [
    {
     "name": "stdout",
     "output_type": "stream",
     "text": [
      "Collecting scikit-fuzzy\n",
      "  Using cached scikit_fuzzy-0.4.2-py3-none-any.whl\n",
      "Requirement already satisfied: numpy>=1.6.0 in c:\\users\\asus\\onedrive\\documents\\unila\\semester 4\\kecerdasan buatan\\fuzzy-logic\\myvenv\\lib\\site-packages (from scikit-fuzzy) (1.26.4)\n",
      "Collecting scipy>=0.9.0 (from scikit-fuzzy)\n",
      "  Using cached scipy-1.13.0-cp312-cp312-win_amd64.whl.metadata (60 kB)\n",
      "Collecting networkx>=1.9.0 (from scikit-fuzzy)\n",
      "  Using cached networkx-3.3-py3-none-any.whl.metadata (5.1 kB)\n",
      "Using cached networkx-3.3-py3-none-any.whl (1.7 MB)\n",
      "Using cached scipy-1.13.0-cp312-cp312-win_amd64.whl (45.9 MB)\n",
      "Installing collected packages: scipy, networkx, scikit-fuzzy\n",
      "Note: you may need to restart the kernel to use updated packages.\n"
     ]
    },
    {
     "name": "stderr",
     "output_type": "stream",
     "text": [
      "ERROR: Could not install packages due to an OSError: [Errno 2] No such file or directory: 'c:\\\\Users\\\\asus\\\\OneDrive\\\\Documents\\\\UNILA\\\\Semester 4\\\\Kecerdasan Buatan\\\\FUZZY-LOGIC\\\\myvenv\\\\Lib\\\\site-packages\\\\scipy-1.13.0-cp312-cp312-win_amd64.whl'\n",
      "\n"
     ]
    }
   ],
   "source": [
    "%pip install -U scikit-fuzzy"
   ]
  }
 ],
 "metadata": {
  "kernelspec": {
   "display_name": "myvenv",
   "language": "python",
   "name": "python3"
  },
  "language_info": {
   "codemirror_mode": {
    "name": "ipython",
    "version": 3
   },
   "file_extension": ".py",
   "mimetype": "text/x-python",
   "name": "python",
   "nbconvert_exporter": "python",
   "pygments_lexer": "ipython3",
   "version": "3.12.2"
  }
 },
 "nbformat": 4,
 "nbformat_minor": 2
}
