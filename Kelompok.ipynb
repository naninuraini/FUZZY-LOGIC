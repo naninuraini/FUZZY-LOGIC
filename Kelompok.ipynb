{
 "cells": [
  {
   "cell_type": "code",
   "execution_count": 2,
   "metadata": {},
   "outputs": [
    {
     "data": {
      "text/html": [
       "<div>\n",
       "<style scoped>\n",
       "    .dataframe tbody tr th:only-of-type {\n",
       "        vertical-align: middle;\n",
       "    }\n",
       "\n",
       "    .dataframe tbody tr th {\n",
       "        vertical-align: top;\n",
       "    }\n",
       "\n",
       "    .dataframe thead th {\n",
       "        text-align: right;\n",
       "    }\n",
       "</style>\n",
       "<table border=\"1\" class=\"dataframe\">\n",
       "  <thead>\n",
       "    <tr style=\"text-align: right;\">\n",
       "      <th></th>\n",
       "      <th>mhs</th>\n",
       "      <th>ipk</th>\n",
       "      <th>gaji</th>\n",
       "    </tr>\n",
       "  </thead>\n",
       "  <tbody>\n",
       "    <tr>\n",
       "      <th>0</th>\n",
       "      <td>A</td>\n",
       "      <td>3.00</td>\n",
       "      <td>10</td>\n",
       "    </tr>\n",
       "    <tr>\n",
       "      <th>1</th>\n",
       "      <td>B</td>\n",
       "      <td>2.99</td>\n",
       "      <td>1</td>\n",
       "    </tr>\n",
       "  </tbody>\n",
       "</table>\n",
       "</div>"
      ],
      "text/plain": [
       "  mhs   ipk  gaji\n",
       "0   A  3.00    10\n",
       "1   B  2.99     1"
      ]
     },
     "execution_count": 2,
     "metadata": {},
     "output_type": "execute_result"
    }
   ],
   "source": [
    "import numpy as np\n",
    "import pandas as pd\n",
    "\n",
    "data_mahasiswa = pd.read_csv(\"dataMahasiswa.csv\")\n",
    "data_mahasiswa"
   ]
  },
  {
   "cell_type": "code",
   "execution_count": 3,
   "metadata": {},
   "outputs": [
    {
     "name": "stdout",
     "output_type": "stream",
     "text": [
      "ipk_A:  3.0\n",
      "ipk_B:  2.99\n"
     ]
    }
   ],
   "source": [
    "# data ipk\n",
    "data_ipk = np.array(data_mahasiswa)\n",
    "data_ipk = data_ipk[:,[0,1]]\n",
    "\n",
    "ipk_A = np.sum(data_ipk[0:1,1], axis=0)\n",
    "ipk_B = np.sum(data_ipk[1:2,1], axis=0)\n",
    "\n",
    "print(\"ipk_A: \", ipk_A)\n",
    "print(\"ipk_B: \", ipk_B)"
   ]
  },
  {
   "cell_type": "code",
   "execution_count": 4,
   "metadata": {},
   "outputs": [
    {
     "name": "stdout",
     "output_type": "stream",
     "text": [
      "gaji_A:  10\n",
      "gaji_B:  1\n"
     ]
    }
   ],
   "source": [
    "# data gaji\n",
    "data_gaji = np.array(data_mahasiswa)\n",
    "data_gaji = data_gaji[:,[0,2]]\n",
    "\n",
    "gaji_A = np.sum(data_gaji[0:1,1], axis=0)\n",
    "gaji_B = np.sum(data_gaji[1:2,1], axis=0)\n",
    "\n",
    "print(\"gaji_A: \", gaji_A)\n",
    "print(\"gaji_B: \", gaji_B)"
   ]
  },
  {
   "cell_type": "code",
   "execution_count": null,
   "metadata": {},
   "outputs": [],
   "source": [
    "%pip install -U scikit-fuzzy"
   ]
  },
  {
   "cell_type": "code",
   "execution_count": 5,
   "metadata": {},
   "outputs": [
    {
     "ename": "ModuleNotFoundError",
     "evalue": "No module named 'distutils'",
     "output_type": "error",
     "traceback": [
      "\u001b[1;31m---------------------------------------------------------------------------\u001b[0m",
      "\u001b[1;31mModuleNotFoundError\u001b[0m                       Traceback (most recent call last)",
      "Cell \u001b[1;32mIn[5], line 1\u001b[0m\n\u001b[1;32m----> 1\u001b[0m \u001b[38;5;28;01mimport\u001b[39;00m \u001b[38;5;21;01mskfuzzy\u001b[39;00m \u001b[38;5;28;01mas\u001b[39;00m \u001b[38;5;21;01mfuzz\u001b[39;00m\n\u001b[0;32m      2\u001b[0m \u001b[38;5;28;01mimport\u001b[39;00m \u001b[38;5;21;01mmatplotlib\u001b[39;00m\u001b[38;5;21;01m.\u001b[39;00m\u001b[38;5;21;01mpyplot\u001b[39;00m \u001b[38;5;28;01mas\u001b[39;00m \u001b[38;5;21;01mplt\u001b[39;00m\n\u001b[0;32m      4\u001b[0m \u001b[38;5;66;03m# Semesta Pembicaraan\u001b[39;00m\n",
      "File \u001b[1;32mc:\\Users\\asus\\OneDrive\\Documents\\UNILA\\Semester 4\\Kecerdasan Buatan\\FUZZY-LOGIC\\myvenv\\Lib\\site-packages\\skfuzzy\\__init__.py:44\u001b[0m\n\u001b[0;32m     41\u001b[0m __all__\u001b[38;5;241m.\u001b[39mextend(_intervals\u001b[38;5;241m.\u001b[39m__all__)\n\u001b[0;32m     43\u001b[0m \u001b[38;5;66;03m# Filtering subpackage, including 1D and 2D FIRE functions\u001b[39;00m\n\u001b[1;32m---> 44\u001b[0m \u001b[38;5;28;01mimport\u001b[39;00m \u001b[38;5;21;01mskfuzzy\u001b[39;00m\u001b[38;5;21;01m.\u001b[39;00m\u001b[38;5;21;01mfilters\u001b[39;00m \u001b[38;5;28;01mas\u001b[39;00m \u001b[38;5;21;01m_filters\u001b[39;00m\n\u001b[0;32m     45\u001b[0m \u001b[38;5;28;01mfrom\u001b[39;00m \u001b[38;5;21;01mskfuzzy\u001b[39;00m\u001b[38;5;21;01m.\u001b[39;00m\u001b[38;5;21;01mfilters\u001b[39;00m \u001b[38;5;28;01mimport\u001b[39;00m \u001b[38;5;241m*\u001b[39m\n\u001b[0;32m     46\u001b[0m __all__\u001b[38;5;241m.\u001b[39mextend(_filters\u001b[38;5;241m.\u001b[39m__all__)\n",
      "File \u001b[1;32mc:\\Users\\asus\\OneDrive\\Documents\\UNILA\\Semester 4\\Kecerdasan Buatan\\FUZZY-LOGIC\\myvenv\\Lib\\site-packages\\skfuzzy\\filters\\__init__.py:9\u001b[0m\n\u001b[0;32m      1\u001b[0m \u001b[38;5;124;03m\"\"\"\u001b[39;00m\n\u001b[0;32m      2\u001b[0m \u001b[38;5;124;03mskfuzzy.filters : Subpackage for filtering data, e.g. with Fuzzy Inference by\u001b[39;00m\n\u001b[0;32m      3\u001b[0m \u001b[38;5;124;03m    Else-action (FIRE) filters to denoise 1d or 2d data.\u001b[39;00m\n\u001b[0;32m      4\u001b[0m \n\u001b[0;32m      5\u001b[0m \u001b[38;5;124;03m\"\"\"\u001b[39;00m\n\u001b[0;32m      6\u001b[0m __all__ \u001b[38;5;241m=\u001b[39m [\u001b[38;5;124m'\u001b[39m\u001b[38;5;124mfire1d\u001b[39m\u001b[38;5;124m'\u001b[39m,\n\u001b[0;32m      7\u001b[0m            \u001b[38;5;124m'\u001b[39m\u001b[38;5;124mfire2d\u001b[39m\u001b[38;5;124m'\u001b[39m]\n\u001b[1;32m----> 9\u001b[0m \u001b[38;5;28;01mfrom\u001b[39;00m \u001b[38;5;21;01m.\u001b[39;00m\u001b[38;5;21;01mfire\u001b[39;00m \u001b[38;5;28;01mimport\u001b[39;00m fire1d, fire2d\n",
      "File \u001b[1;32mc:\\Users\\asus\\OneDrive\\Documents\\UNILA\\Semester 4\\Kecerdasan Buatan\\FUZZY-LOGIC\\myvenv\\Lib\\site-packages\\skfuzzy\\filters\\fire.py:7\u001b[0m\n\u001b[0;32m      1\u001b[0m \u001b[38;5;124;03m\"\"\"\u001b[39;00m\n\u001b[0;32m      2\u001b[0m \u001b[38;5;124;03mfire.py : Collection of Fuzzy Inference Ruled by ELSE-action (FIRE) filters.\u001b[39;00m\n\u001b[0;32m      3\u001b[0m \n\u001b[0;32m      4\u001b[0m \u001b[38;5;124;03m\"\"\"\u001b[39;00m\n\u001b[0;32m      6\u001b[0m \u001b[38;5;28;01mimport\u001b[39;00m \u001b[38;5;21;01mnumpy\u001b[39;00m \u001b[38;5;28;01mas\u001b[39;00m \u001b[38;5;21;01mnp\u001b[39;00m\n\u001b[1;32m----> 7\u001b[0m \u001b[38;5;28;01mfrom\u001b[39;00m \u001b[38;5;21;01m.\u001b[39;00m\u001b[38;5;21;01m.\u001b[39;00m\u001b[38;5;21;01mimage\u001b[39;00m \u001b[38;5;28;01mimport\u001b[39;00m view_as_windows\n\u001b[0;32m      8\u001b[0m \u001b[38;5;28;01mfrom\u001b[39;00m \u001b[38;5;21;01m.\u001b[39;00m\u001b[38;5;21;01m.\u001b[39;00m\u001b[38;5;21;01mmembership\u001b[39;00m \u001b[38;5;28;01mimport\u001b[39;00m trimf\n\u001b[0;32m     11\u001b[0m \u001b[38;5;28;01mdef\u001b[39;00m \u001b[38;5;21mfire1d\u001b[39m(x, l1\u001b[38;5;241m=\u001b[39m\u001b[38;5;241m0\u001b[39m, l2\u001b[38;5;241m=\u001b[39m\u001b[38;5;241m1\u001b[39m):\n",
      "File \u001b[1;32mc:\\Users\\asus\\OneDrive\\Documents\\UNILA\\Semester 4\\Kecerdasan Buatan\\FUZZY-LOGIC\\myvenv\\Lib\\site-packages\\skfuzzy\\image\\__init__.py:16\u001b[0m\n\u001b[0;32m     13\u001b[0m \u001b[38;5;28;01mfrom\u001b[39;00m \u001b[38;5;21;01m.\u001b[39;00m\u001b[38;5;21;01mmetrics\u001b[39;00m \u001b[38;5;28;01mimport\u001b[39;00m nmse\n\u001b[0;32m     15\u001b[0m \u001b[38;5;28;01mimport\u001b[39;00m \u001b[38;5;21;01mnumpy\u001b[39;00m \u001b[38;5;28;01mas\u001b[39;00m \u001b[38;5;21;01mnp\u001b[39;00m\n\u001b[1;32m---> 16\u001b[0m \u001b[38;5;28;01mfrom\u001b[39;00m \u001b[38;5;21;01mdistutils\u001b[39;00m\u001b[38;5;21;01m.\u001b[39;00m\u001b[38;5;21;01mversion\u001b[39;00m \u001b[38;5;28;01mimport\u001b[39;00m LooseVersion\n\u001b[0;32m     17\u001b[0m \u001b[38;5;28;01mif\u001b[39;00m LooseVersion(np\u001b[38;5;241m.\u001b[39m__version__) \u001b[38;5;241m>\u001b[39m LooseVersion(\u001b[38;5;124m\"\u001b[39m\u001b[38;5;124m1.8\u001b[39m\u001b[38;5;124m\"\u001b[39m):\n\u001b[0;32m     18\u001b[0m \t\u001b[38;5;28;01mfrom\u001b[39;00m \u001b[38;5;21;01mnumpy\u001b[39;00m \u001b[38;5;28;01mimport\u001b[39;00m pad\n",
      "\u001b[1;31mModuleNotFoundError\u001b[0m: No module named 'distutils'"
     ]
    }
   ],
   "source": [
    "import skfuzzy as fuzz\n",
    "import matplotlib.pyplot as plt\n",
    "\n",
    "# Semesta Pembicaraan\n",
    "x_ipk = np.arange(0, 4, 0.25)\n",
    "x_gaji = np.arange(0, 15, 1)\n",
    "x_nk = np.arange(0, 100, 1)\n",
    "\n",
    "# Membership Function\n",
    "# ipk\n",
    "ipk_buruk = fuzz.trapmf(x_ipk, [0, 0, 2, 2.75])\n",
    "ipk_cukup = fuzz.trapmf(x_ipk, [2, 2, 2.75, 3.25])\n",
    "ipk_bagus = fuzz.trapmf(x_ipk, [2.75, 3.25, 4, 4])\n",
    "\n",
    "# gaji\n",
    "gaji_kecil = fuzz.trapmf(x_gaji, [0, 0, 1, 3])\n",
    "gaji_sedang = fuzz.trapmf(x_gaji, [1, 2, 4, 6])\n",
    "gaji_besar= fuzz.trapmf(x_gaji, [4, 6, 7, 12])\n",
    "gaji_sangat_besar= fuzz.trapmf(x_gaji, [7, 12, 15, 15])\n",
    "\n",
    "# nilai kelayakan\n",
    "nk_rendah = fuzz.trapmf(x_nk, [0, 0, 50, 50])\n",
    "nk_tinggi = fuzz.trapmf(x_nk, [50, 80, 100, 100])\n",
    "\n",
    "# kurva membership function\n",
    "fig, (ax0, ax1, ax2) = plt.subplot(nrow=3, figsize=(8,9))\n",
    "\n",
    "ax0.plot(x_ipk, ipk_buruk, 'b', linewidht=1.5, label='Buruk')\n",
    "ax0.plot(x_ipk, ipk_cukup, 'g', linewidht=1.5, label='Cukup')\n",
    "ax0.plot(x_ipk, ipk_bagus, 'r', linewidht=1.5, label='Bagus')\n",
    "ax0.set_title('IPK')\n",
    "ax0.legend()\n",
    "\n",
    "ax1.plot(x_gaji, gaji_kecil, 'b', linewidht=1.5, label='Kecil')\n",
    "ax1.plot(x_gaji, gaji_sedang, 'g', linewidht=1.5, label='Sedang')\n",
    "ax1.plot(x_gaji, gaji_besar, 'r', linewidht=1.5, label='Besar')\n",
    "ax1.plot(x_gaji, gaji_sangat_besar, 'm', linewidht=1.5, label='Sangat Besar')\n",
    "ax1.set_title('Gaji')\n",
    "ax1.legend()\n",
    "\n",
    "ax2.plot(x_nk, nk_rendah, 'b', linewidht=1.5, label='Rendah')\n",
    "ax2.plot(x_nk, nk_tinggi, 'r', linewidht=1.5, label='Tinggi')\n",
    "ax2.set_title('Nilai Kelayakan')\n",
    "ax2.legend()\n",
    "\n",
    "for ax in (ax0, ax1, ax2):\n",
    "    ax.spines['top'].set_visible(False)\n",
    "    ax.spines['right'].set_visible(False)\n",
    "    ax.get_xaxis().tick_bottom()\n",
    "    ax.get_yaxis().tick_left()\n",
    "\n",
    "plt.tight_layout()\n",
    "\n",
    "\n",
    "\n"
   ]
  },
  {
   "cell_type": "code",
   "execution_count": null,
   "metadata": {},
   "outputs": [],
   "source": [
    "#Fungsi Keanggotaan IPK\n",
    "def fungsiKeanggotaan_IPK(_nilai):\n",
    "    buruk = fuzz.interp_membership(x_ipk, ipk_buruk, _nilai)\n",
    "    cukup = fuzz.interp_membership(x_ipk, ipk_cukup, _nilai)\n",
    "    cukup = fuzz.interp_membership(x_ipk, ipk_bagus, _nilai)\n",
    "\n",
    "    return buruk, cukup, bagus\n",
    "\n",
    "#Fungsi Keanggotaan Gaji\n",
    "def fungsiKeanggotaan_Gaji(_nilai):\n",
    "    kecil = fuzz.interp_membership(x_gaji, gaji_kecil, _nilai)\n",
    "    sedang = fuzz.interp_membership(x_gaji, gaji_sedang, _nilai)\n",
    "    besar = fuzz.interp_membership(x_gaji, gaji_besar, _nilai)\n",
    "    sangat_besar = fuzz.interp_membership(x_gaji, gaji_sangat_besar, _nilai)\n",
    "\n",
    "    return kecil, sedang, besar, sangat_besar\n",
    "\n",
    "#Menghitung Derajat Keanggotaan IPK\n",
    "ipk_mhsA = fungsiKeanggotaan_IPK(ipk_A)\n",
    "ipk_mhsB = fungsiKeanggotaan_IPK(ipk_B)\n",
    "\n",
    "print(\"ipk mhsA : \", ipk_mhsA)\n",
    "print(\"ipk mhsB : \", ipk_mhsB)"
   ]
  },
  {
   "cell_type": "code",
   "execution_count": null,
   "metadata": {},
   "outputs": [],
   "source": [
    "#Menghitung Derajat Keanggotaan Gaji\n",
    "gaji_mhsA = fungsiKeanggotaan_Gaji(gaji_A)\n",
    "gaji_mhsB = fungsiKeanggotaan_Gaji(gaji_B)\n",
    "\n",
    "print(\"ipk mhsA : \", gaji_mhsA)\n",
    "print(\"ipk mhsB : \", gaji_mhsB)"
   ]
  },
  {
   "cell_type": "code",
   "execution_count": null,
   "metadata": {},
   "outputs": [],
   "source": [
    "# Rule 7. IF IPK = Cukup AND Gaji = Besar Then NK = Rendah\n",
    "nk_7 = np.fmin(ipk_mhsA[1], gaji_mhsA[2])\n",
    "\n",
    "# Rule 8. IF IPK = Cukup AND Gaji = Sangat Besar Then NK = Rendah\n",
    "nk_8 = np.fmin(ipk_mhsA[1], gaji_mhsA[3])\n",
    "\n",
    "# Rule 11. IF IPK = Bagus AND Gaji = Besar Then NK = Tinggi\n",
    "nk_11 = np.fmin(ipk_mhsA[2], gaji_mhsA[2])\n",
    "\n",
    "# Rule 12. IF IPK = Bagus AND Gaji = Sangat Besar Then NK = Rendah\n",
    "nk_12 = np.fmin(ipk_mhsA[2], gaji_mhsA[3])\n",
    "\n",
    "mhsA_nk_rendah = np.fmax(nk_7, np.fmax(nk_8, nk_12))\n",
    "mhsA_nk_tinggi = nk_11\n",
    "\n",
    "print(\"Nilai Kelayalan mhs A\")\n",
    "print(\"NK rendah : \", mhsA_nk_rendah)\n",
    "print(\"NK tinggi : \", mhsA_nk_tinggi)"
   ]
  },
  {
   "cell_type": "code",
   "execution_count": null,
   "metadata": {},
   "outputs": [],
   "source": [
    "#Untuk Plot Arsir, pakai np.fmin\n",
    "mhsA_nk_rendah = np.fmin(mhsA_nk_rendah, nk_rendah)\n",
    "mhsA_nk_tinggi = np.fmin(mhsA_nk_tinggi, nk_tinggi)\n",
    "\n",
    "# Titik Awal Arsir\n",
    "nk0 = np.zeros_like(x_nk)\n",
    "nkr = np.zeros_like(nk_rendah)\n",
    "nkt = np.zeros_like(nk_tinggi)\n",
    "\n",
    "# Visualize this\n",
    "fig, (ax0, ax1, ax2) = plt.subplots(nrows=3, figsize=(8, 9))\n",
    "\n",
    "# x_nk_rendah = np.arrange(0, 80 1)\n",
    "ax0.fill_between(x_nk, nkr, mhsA_nk_rendah, facecolor= 'b', alpha= 0.7)\n",
    "ax0.plot(x_nk, nk_rendah, 'b', linewidth=1.5, linestyle='--', label='Rendah')\n",
    "ax0.set_title('Nilai Kelayakan')\n",
    "ax0.legend()\n",
    "\n",
    "ax1.fill_between(x_nk, nkt, mhsA_nk_tinggi, facecolor= 'g', alpha= 0.7)\n",
    "ax1.plot(x_nk, nk_tinggi, 'g', linewidth=1.5, linestyle='--', label='Tinggi')\n",
    "ax1.set_title('Nilai Kelayakan')\n",
    "ax1.legend()\n",
    "\n",
    "ax2.fill_between(x_nk, nk0, mhsA_nk_rendah, facecolor= 'b', alpha= 0.7)\n",
    "ax2.plot(x_nk, nk_tinggi, 'b', linewidth=1.5, linestyle='--', label='Rendah')\n",
    "ax2.fill_between(x_nk, nkt, mhsA_nk_tinggi, facecolor= 'g', alpha= 0.7)\n",
    "ax2.plot(x_nk, nk_tinggi, 'g', linewidth=1.5, linestyle='--', label='Tinggi')\n",
    "ax2.set_title('Nilai Kelayakan')\n",
    "ax2.legend()\n",
    "\n",
    "#turn off top/rigth axes\n",
    "for ax in (ax0,ax1,ax2):\n",
    "    ax.spines['top'].set_visible(False)\n",
    "    ax.spines['rigth'].set_visible(False)\n",
    "    ax.get_xaxix().tick_bottom()\n",
    "    ax.get.yaxix().tick_left()\n",
    "\n",
    "plt.tight_layout()"
   ]
  },
  {
   "cell_type": "code",
   "execution_count": null,
   "metadata": {},
   "outputs": [],
   "source": [
    "# Rule 5. IF IPK = Cukup AND Gaji = Kecil Then NK = Tinggi\n",
    "nk_5 = np.fmin(ipk_mhsB[1], gaji_mhsB[0])\n",
    "\n",
    "# Rule 6. IF IPK = Cukup AND Gaji = Sedang Then NK = Rendah\n",
    "nk_6 = np.fmin(ipk_mhsB[1], gaji_mhsB[1])\n",
    "\n",
    "# Rule 9. IF IPK = Bagus AND Gaji = Kecil Then NK = Tinggi\n",
    "nk_9 = np.fmin(ipk_mhsB[2], gaji_mhsB[0])\n",
    "\n",
    "# Rule 10. IF IPK = Bagus AND Gaji = Sedang Then NK = Tinggi\n",
    "nk_10 = np.fmin(ipk_mhsB[2], gaji_mhsB[1])\n",
    "\n",
    "mhsB_nk_rendah = np.fmax(nk_5, np.fmax(nk_9, nk_10))\n",
    "mhsB_nk_tinggi = nk_6\n",
    "\n",
    "print(\"Nilai Kelayalan mhs B\")\n",
    "print(\"NK rendah : \", mhsB_nk_rendah)\n",
    "print(\"NK tinggi : \", mhsB_nk_tinggi)"
   ]
  },
  {
   "cell_type": "code",
   "execution_count": null,
   "metadata": {},
   "outputs": [],
   "source": [
    "#Untuk Plot Arsir, pakai np.fmin\n",
    "mhsB_nk_rendah = np.fmin(mhsB_nk_rendah, nk_rendah)\n",
    "mhsB_nk_tinggi = np.fmin(mhsB_nk_tinggi, nk_tinggi)\n",
    "\n",
    "# Titik Awal Arsir\n",
    "nk0 = np.zeros_like(x_nk)\n",
    "nkr = np.zeros_like(nk_rendah)\n",
    "nkt = np.zeros_like(nk_tinggi)\n",
    "\n",
    "# Visualize this\n",
    "fig, (ax0, ax1, ax2) = plt.subplots(nrows=3, figsize=(8, 9))\n",
    "\n",
    "# x_nk_rendah = np.arrange(0, 80 1)\n",
    "ax0.fill_between(x_nk, nkr, mhsB_nk_rendah, facecolor= 'b', alpha= 0.7)\n",
    "ax0.plot(x_nk, nk_rendah, 'b', linewidth=1.5, linestyle='--', label='Rendah')\n",
    "ax0.set_title('Nilai Kelayakan')\n",
    "ax0.legend()\n",
    "\n",
    "ax1.fill_between(x_nk, nkt, mhsB_nk_tinggi, facecolor= 'g', alpha= 0.7)\n",
    "ax1.plot(x_nk, nk_tinggi, 'g', linewidth=1.5, linestyle='--', label='Tinggi')\n",
    "ax1.set_title('Nilai Kelayakan')\n",
    "ax1.legend()\n",
    "\n",
    "ax2.fill_between(x_nk, nk0, mhsB_nk_rendah, facecolor= 'b', alpha= 0.7)\n",
    "ax2.plot(x_nk, nk_tinggi, 'b', linewidth=1.5, linestyle='--', label='Rendah')\n",
    "ax2.fill_between(x_nk, nkt, mhsA_nk_tinggi, facecolor= 'g', alpha= 0.7)\n",
    "ax2.plot(x_nk, nk_tinggi, 'g', linewidth=1.5, linestyle='--', label='Tinggi')\n",
    "ax2.set_title('Nilai Kelayakan')\n",
    "ax2.legend()\n",
    "\n",
    "#turn off top/rigth axes\n",
    "for ax in (ax0,ax1,ax2):\n",
    "    ax.spines['top'].set_visible(False)\n",
    "    ax.spines['rigth'].set_visible(False)\n",
    "    ax.get_xaxix().tick_bottom()\n",
    "    ax.get.yaxix().tick_left()\n",
    "\n",
    "plt.tight_layout()"
   ]
  },
  {
   "cell_type": "code",
   "execution_count": null,
   "metadata": {},
   "outputs": [],
   "source": [
    "#Komposisi Aturan \n",
    "komposisi = np.fmax(mhsA_nk_rendah, mhsA_nk_tinggi)\n",
    "\n",
    "# Hasil Defuzzifikasi\n",
    "nk = fuzz.defuzz(x_nk, komposisi, 'centroid')\n",
    "print(\"Nilai Kelayakan Mhs A: \", nk)\n",
    "\n",
    "#Nilai Fuzzy untuk membership function\n",
    "nk_defuzzy = fuzz.interp_membership(x_nk, komposisi, nk)\n",
    "nk_defuzzy"
   ]
  },
  {
   "cell_type": "code",
   "execution_count": null,
   "metadata": {},
   "outputs": [],
   "source": [
    "# Visualisasi Hasil\n",
    "fig ax0 = plt.subplots(figsize=(8,3))\n",
    "\n",
    "ax0.plot(x_nk, nk_rendah, 'g', linewidth=1.5, linestyle='--', label='Rendah')\n",
    "ax0.plot(x_nk, nk_tinggi, 'g', linewidth=1.5, linestyle='--', label='Tinggi')\n",
    "ax0.fill_between(x_nk, nk0, komposisi, facecolor='Orange', alpha=0.9)\n",
    "ax0.plot([nk, nk], [0, nk_defuzzy], 'k', linewidth=1.5, alpha=0.9)\n",
    "ax0.set_title('Defuzzifikasi dengan metode centroid')\n",
    "\n",
    "#Turn off top/rigth axes\n",
    "for ax in (ax0,ax1,ax2):\n",
    "    ax.spines['top'].set_visible(False)\n",
    "    ax.spines['rigth'].set_visible(False)\n",
    "    ax.get_xaxix().tick_bottom()\n",
    "    ax.get.yaxix().tick_left()\n",
    "\n",
    "plt.tight_layout()"
   ]
  },
  {
   "cell_type": "code",
   "execution_count": null,
   "metadata": {},
   "outputs": [],
   "source": [
    "#Komposisi Aturan\n",
    "komposisi = np.fmax(mhsB_nk_rendah, mhsB_nk_tinggi)\n",
    "\n",
    "#Hasil Defuzzifikasi\n",
    "nk = fuzz.defuzz(x_nk, komposisi, 'centroid')\n",
    "print(\"Nilai Kelayakan Mhs B : \", nk)\n",
    "\n",
    "# Nilai Fuzzy untuk membership function\n",
    "nk_defuzzy = fuzz.interp_membership(x_nk, komposisi, nk)\n",
    "nk_defuzzy"
   ]
  },
  {
   "cell_type": "code",
   "execution_count": null,
   "metadata": {},
   "outputs": [],
   "source": [
    "# Visualisasi Hasil\n",
    "fig ax0 = plt.subplots(figsize=(8,3))\n",
    "\n",
    "ax0.plot(x_nk, nk_rendah, 'g', linewidth=1.5, linestyle='--', label='Rendah')\n",
    "ax0.plot(x_nk, nk_tinggi, 'g', linewidth=1.5, linestyle='--', label='Tinggi')\n",
    "ax0.fill_between(x_nk, nk0, komposisi, facecolor='Orange', alpha=0.9)\n",
    "ax0.plot([nk, nk], [0, nk_defuzzy], 'k', linewidth=1.5, alpha=0.9)\n",
    "ax0.set_title('Defuzzifikasi dengan metode centroid')\n",
    "\n",
    "#Turn off top/rigth axes\n",
    "for ax in (ax0,ax1,ax2):\n",
    "    ax.spines['top'].set_visible(False)\n",
    "    ax.spines['rigth'].set_visible(False)\n",
    "    ax.get_xaxix().tick_bottom()\n",
    "    ax.get.yaxix().tick_left()\n",
    "\n",
    "plt.tight_layout()"
   ]
  }
 ],
 "metadata": {
  "kernelspec": {
   "display_name": "myvenv",
   "language": "python",
   "name": "python3"
  },
  "language_info": {
   "codemirror_mode": {
    "name": "ipython",
    "version": 3
   },
   "file_extension": ".py",
   "mimetype": "text/x-python",
   "name": "python",
   "nbconvert_exporter": "python",
   "pygments_lexer": "ipython3",
   "version": "3.12.2"
  }
 },
 "nbformat": 4,
 "nbformat_minor": 2
}
